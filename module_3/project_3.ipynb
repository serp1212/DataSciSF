{
 "cells": [
  {
   "cell_type": "markdown",
   "metadata": {},
   "source": [
    "# import"
   ]
  },
  {
   "cell_type": "code",
   "execution_count": 1,
   "metadata": {
    "_cell_guid": "b1076dfc-b9ad-4769-8c92-a6c4dae69d19",
    "_uuid": "8f2839f25d086af736a60e9eeb907d3b93b6e0e5",
    "execution": {
     "iopub.execute_input": "2021-05-25T16:45:25.630103Z",
     "iopub.status.busy": "2021-05-25T16:45:25.629793Z",
     "iopub.status.idle": "2021-05-25T16:45:25.643084Z",
     "shell.execute_reply": "2021-05-25T16:45:25.642018Z",
     "shell.execute_reply.started": "2021-05-25T16:45:25.630055Z"
    }
   },
   "outputs": [
    {
     "name": "stdout",
     "output_type": "stream",
     "text": [
      "/kaggle/input/sf-dst-restaurant-rating/sample_submission.csv\n",
      "/kaggle/input/sf-dst-restaurant-rating/main_task.csv\n",
      "/kaggle/input/sf-dst-restaurant-rating/kaggle_task.csv\n"
     ]
    }
   ],
   "source": [
    "# This Python 3 environment comes with many helpful analytics libraries installed\n",
    "# It is defined by the kaggle/python docker image: https://github.com/kaggle/docker-python\n",
    "# For example, here's several helpful packages to load in \n",
    "\n",
    "import numpy as np # linear algebra\n",
    "import pandas as pd # data processing, CSV file I/O (e.g. pd.read_csv)\n",
    "from datetime import datetime, timedelta\n",
    "\n",
    "import matplotlib.pyplot as plt\n",
    "import seaborn as sns \n",
    "%matplotlib inline\n",
    "\n",
    "# Загружаем специальный удобный инструмент для разделения датасета:\n",
    "from sklearn.model_selection import train_test_split\n",
    "\n",
    "# Input data files are available in the \"../input/\" directory.\n",
    "# For example, running this (by clicking run or pressing Shift+Enter) will list all files under the input directory\n",
    "\n",
    "import os\n",
    "for dirname, _, filenames in os.walk('/kaggle/input'):\n",
    "    for filename in filenames:\n",
    "        print(os.path.join(dirname, filename))\n",
    "\n",
    "# Any results you write to the current directory are saved as output."
   ]
  },
  {
   "cell_type": "code",
   "execution_count": 2,
   "metadata": {
    "execution": {
     "iopub.execute_input": "2021-05-25T16:45:25.645577Z",
     "iopub.status.busy": "2021-05-25T16:45:25.645201Z",
     "iopub.status.idle": "2021-05-25T16:45:25.657613Z",
     "shell.execute_reply": "2021-05-25T16:45:25.656735Z",
     "shell.execute_reply.started": "2021-05-25T16:45:25.645499Z"
    }
   },
   "outputs": [],
   "source": [
    "# всегда фиксируйте RANDOM_SEED, чтобы ваши эксперименты были воспроизводимы!\n",
    "RANDOM_SEED = 42"
   ]
  },
  {
   "cell_type": "code",
   "execution_count": 3,
   "metadata": {
    "execution": {
     "iopub.execute_input": "2021-05-25T16:45:25.659297Z",
     "iopub.status.busy": "2021-05-25T16:45:25.659012Z",
     "iopub.status.idle": "2021-05-25T16:45:28.037320Z",
     "shell.execute_reply": "2021-05-25T16:45:28.036188Z",
     "shell.execute_reply.started": "2021-05-25T16:45:25.659254Z"
    }
   },
   "outputs": [],
   "source": [
    "# зафиксируем версию пакетов, чтобы эксперименты были воспроизводимы:\n",
    "!pip freeze > requirements.txt"
   ]
  },
  {
   "cell_type": "markdown",
   "metadata": {},
   "source": [
    "# DATA"
   ]
  },
  {
   "cell_type": "code",
   "execution_count": 4,
   "metadata": {
    "_cell_guid": "79c7e3d0-c299-4dcb-8224-4455121ee9b0",
    "_uuid": "d629ff2d2480ee46fbb7e2d37f6b5fab8052498a",
    "execution": {
     "iopub.execute_input": "2021-05-25T16:45:28.040472Z",
     "iopub.status.busy": "2021-05-25T16:45:28.040068Z",
     "iopub.status.idle": "2021-05-25T16:45:28.294091Z",
     "shell.execute_reply": "2021-05-25T16:45:28.293297Z",
     "shell.execute_reply.started": "2021-05-25T16:45:28.040411Z"
    }
   },
   "outputs": [],
   "source": [
    "DATA_DIR = '/kaggle/input/sf-dst-restaurant-rating/'\n",
    "df_train = pd.read_csv(DATA_DIR+'/main_task.csv')\n",
    "df_test = pd.read_csv(DATA_DIR+'kaggle_task.csv')\n",
    "sample_submission = pd.read_csv(DATA_DIR+'/sample_submission.csv')"
   ]
  },
  {
   "cell_type": "code",
   "execution_count": 5,
   "metadata": {
    "execution": {
     "iopub.execute_input": "2021-05-25T16:45:28.296333Z",
     "iopub.status.busy": "2021-05-25T16:45:28.295833Z",
     "iopub.status.idle": "2021-05-25T16:45:28.334124Z",
     "shell.execute_reply": "2021-05-25T16:45:28.333206Z",
     "shell.execute_reply.started": "2021-05-25T16:45:28.296122Z"
    }
   },
   "outputs": [
    {
     "name": "stdout",
     "output_type": "stream",
     "text": [
      "<class 'pandas.core.frame.DataFrame'>\n",
      "RangeIndex: 40000 entries, 0 to 39999\n",
      "Data columns (total 10 columns):\n",
      "Restaurant_id        40000 non-null object\n",
      "City                 40000 non-null object\n",
      "Cuisine Style        30717 non-null object\n",
      "Ranking              40000 non-null float64\n",
      "Rating               40000 non-null float64\n",
      "Price Range          26114 non-null object\n",
      "Number of Reviews    37457 non-null float64\n",
      "Reviews              40000 non-null object\n",
      "URL_TA               40000 non-null object\n",
      "ID_TA                40000 non-null object\n",
      "dtypes: float64(3), object(7)\n",
      "memory usage: 3.1+ MB\n"
     ]
    }
   ],
   "source": [
    "df_train.info()"
   ]
  },
  {
   "cell_type": "code",
   "execution_count": 6,
   "metadata": {
    "execution": {
     "iopub.execute_input": "2021-05-25T16:45:28.335895Z",
     "iopub.status.busy": "2021-05-25T16:45:28.335494Z",
     "iopub.status.idle": "2021-05-25T16:45:28.352320Z",
     "shell.execute_reply": "2021-05-25T16:45:28.351079Z",
     "shell.execute_reply.started": "2021-05-25T16:45:28.335711Z"
    }
   },
   "outputs": [
    {
     "name": "stdout",
     "output_type": "stream",
     "text": [
      "<class 'pandas.core.frame.DataFrame'>\n",
      "RangeIndex: 10000 entries, 0 to 9999\n",
      "Data columns (total 9 columns):\n",
      "Restaurant_id        10000 non-null object\n",
      "City                 10000 non-null object\n",
      "Cuisine Style        7693 non-null object\n",
      "Ranking              10000 non-null float64\n",
      "Price Range          6525 non-null object\n",
      "Number of Reviews    9343 non-null float64\n",
      "Reviews              9998 non-null object\n",
      "URL_TA               10000 non-null object\n",
      "ID_TA                10000 non-null object\n",
      "dtypes: float64(2), object(7)\n",
      "memory usage: 703.2+ KB\n"
     ]
    }
   ],
   "source": [
    "df_test.info()"
   ]
  },
  {
   "cell_type": "code",
   "execution_count": 7,
   "metadata": {
    "execution": {
     "iopub.execute_input": "2021-05-25T16:45:28.354584Z",
     "iopub.status.busy": "2021-05-25T16:45:28.354010Z",
     "iopub.status.idle": "2021-05-25T16:45:28.367541Z",
     "shell.execute_reply": "2021-05-25T16:45:28.366511Z",
     "shell.execute_reply.started": "2021-05-25T16:45:28.354315Z"
    }
   },
   "outputs": [
    {
     "data": {
      "text/html": [
       "<div>\n",
       "<style scoped>\n",
       "    .dataframe tbody tr th:only-of-type {\n",
       "        vertical-align: middle;\n",
       "    }\n",
       "\n",
       "    .dataframe tbody tr th {\n",
       "        vertical-align: top;\n",
       "    }\n",
       "\n",
       "    .dataframe thead th {\n",
       "        text-align: right;\n",
       "    }\n",
       "</style>\n",
       "<table border=\"1\" class=\"dataframe\">\n",
       "  <thead>\n",
       "    <tr style=\"text-align: right;\">\n",
       "      <th></th>\n",
       "      <th>Restaurant_id</th>\n",
       "      <th>Rating</th>\n",
       "    </tr>\n",
       "  </thead>\n",
       "  <tbody>\n",
       "    <tr>\n",
       "      <th>0</th>\n",
       "      <td>id_0</td>\n",
       "      <td>2.0</td>\n",
       "    </tr>\n",
       "    <tr>\n",
       "      <th>1</th>\n",
       "      <td>id_1</td>\n",
       "      <td>2.5</td>\n",
       "    </tr>\n",
       "    <tr>\n",
       "      <th>2</th>\n",
       "      <td>id_2</td>\n",
       "      <td>4.0</td>\n",
       "    </tr>\n",
       "    <tr>\n",
       "      <th>3</th>\n",
       "      <td>id_3</td>\n",
       "      <td>1.0</td>\n",
       "    </tr>\n",
       "    <tr>\n",
       "      <th>4</th>\n",
       "      <td>id_4</td>\n",
       "      <td>4.0</td>\n",
       "    </tr>\n",
       "  </tbody>\n",
       "</table>\n",
       "</div>"
      ],
      "text/plain": [
       "  Restaurant_id  Rating\n",
       "0          id_0     2.0\n",
       "1          id_1     2.5\n",
       "2          id_2     4.0\n",
       "3          id_3     1.0\n",
       "4          id_4     4.0"
      ]
     },
     "execution_count": 7,
     "metadata": {},
     "output_type": "execute_result"
    }
   ],
   "source": [
    "sample_submission.head(5)"
   ]
  },
  {
   "cell_type": "code",
   "execution_count": 8,
   "metadata": {
    "execution": {
     "iopub.execute_input": "2021-05-25T16:45:28.370057Z",
     "iopub.status.busy": "2021-05-25T16:45:28.369660Z",
     "iopub.status.idle": "2021-05-25T16:45:28.383971Z",
     "shell.execute_reply": "2021-05-25T16:45:28.382978Z",
     "shell.execute_reply.started": "2021-05-25T16:45:28.369986Z"
    }
   },
   "outputs": [
    {
     "name": "stdout",
     "output_type": "stream",
     "text": [
      "<class 'pandas.core.frame.DataFrame'>\n",
      "RangeIndex: 10000 entries, 0 to 9999\n",
      "Data columns (total 2 columns):\n",
      "Restaurant_id    10000 non-null object\n",
      "Rating           10000 non-null float64\n",
      "dtypes: float64(1), object(1)\n",
      "memory usage: 156.4+ KB\n"
     ]
    }
   ],
   "source": [
    "sample_submission.info()"
   ]
  },
  {
   "cell_type": "code",
   "execution_count": 9,
   "metadata": {
    "execution": {
     "iopub.execute_input": "2021-05-25T16:45:28.390950Z",
     "iopub.status.busy": "2021-05-25T16:45:28.390421Z",
     "iopub.status.idle": "2021-05-25T16:45:28.451173Z",
     "shell.execute_reply": "2021-05-25T16:45:28.450074Z",
     "shell.execute_reply.started": "2021-05-25T16:45:28.390890Z"
    }
   },
   "outputs": [],
   "source": [
    "# ВАЖНО! дря корректной обработки признаков объединяем трейн и тест в один датасет\n",
    "df_train['sample'] = 1 # помечаем где у нас трейн\n",
    "df_test['sample'] = 0 # помечаем где у нас тест\n",
    "df_test['Rating'] = 0 # в тесте у нас нет значения Rating, мы его должны предсказать, по этому пока просто заполняем нулями\n",
    "\n",
    "data = df_test.append(df_train, sort=False).reset_index(drop=True) # объединяем"
   ]
  },
  {
   "cell_type": "code",
   "execution_count": 10,
   "metadata": {
    "execution": {
     "iopub.execute_input": "2021-05-25T16:45:28.456003Z",
     "iopub.status.busy": "2021-05-25T16:45:28.455634Z",
     "iopub.status.idle": "2021-05-25T16:45:28.498303Z",
     "shell.execute_reply": "2021-05-25T16:45:28.497337Z",
     "shell.execute_reply.started": "2021-05-25T16:45:28.455949Z"
    }
   },
   "outputs": [
    {
     "name": "stdout",
     "output_type": "stream",
     "text": [
      "<class 'pandas.core.frame.DataFrame'>\n",
      "RangeIndex: 50000 entries, 0 to 49999\n",
      "Data columns (total 11 columns):\n",
      "Restaurant_id        50000 non-null object\n",
      "City                 50000 non-null object\n",
      "Cuisine Style        38410 non-null object\n",
      "Ranking              50000 non-null float64\n",
      "Price Range          32639 non-null object\n",
      "Number of Reviews    46800 non-null float64\n",
      "Reviews              49998 non-null object\n",
      "URL_TA               50000 non-null object\n",
      "ID_TA                50000 non-null object\n",
      "sample               50000 non-null int64\n",
      "Rating               50000 non-null float64\n",
      "dtypes: float64(3), int64(1), object(7)\n",
      "memory usage: 4.2+ MB\n"
     ]
    }
   ],
   "source": [
    "data.info()"
   ]
  },
  {
   "cell_type": "markdown",
   "metadata": {},
   "source": [
    "Подробнее по признакам:\n",
    "* City: Город \n",
    "* Cuisine Style: Кухня\n",
    "* Ranking: Ранг ресторана относительно других ресторанов в этом городе\n",
    "* Price Range: Цены в ресторане в 3 категориях\n",
    "* Number of Reviews: Количество отзывов\n",
    "* Reviews: 2 последних отзыва и даты этих отзывов\n",
    "* URL_TA: страница ресторана на 'www.tripadvisor.com' \n",
    "* ID_TA: ID ресторана в TripAdvisor\n",
    "* Rating: Рейтинг ресторана"
   ]
  },
  {
   "cell_type": "code",
   "execution_count": 11,
   "metadata": {
    "execution": {
     "iopub.execute_input": "2021-05-25T16:45:28.499868Z",
     "iopub.status.busy": "2021-05-25T16:45:28.499395Z",
     "iopub.status.idle": "2021-05-25T16:45:28.521328Z",
     "shell.execute_reply": "2021-05-25T16:45:28.520270Z",
     "shell.execute_reply.started": "2021-05-25T16:45:28.499812Z"
    }
   },
   "outputs": [
    {
     "data": {
      "text/html": [
       "<div>\n",
       "<style scoped>\n",
       "    .dataframe tbody tr th:only-of-type {\n",
       "        vertical-align: middle;\n",
       "    }\n",
       "\n",
       "    .dataframe tbody tr th {\n",
       "        vertical-align: top;\n",
       "    }\n",
       "\n",
       "    .dataframe thead th {\n",
       "        text-align: right;\n",
       "    }\n",
       "</style>\n",
       "<table border=\"1\" class=\"dataframe\">\n",
       "  <thead>\n",
       "    <tr style=\"text-align: right;\">\n",
       "      <th></th>\n",
       "      <th>Restaurant_id</th>\n",
       "      <th>City</th>\n",
       "      <th>Cuisine Style</th>\n",
       "      <th>Ranking</th>\n",
       "      <th>Price Range</th>\n",
       "      <th>Number of Reviews</th>\n",
       "      <th>Reviews</th>\n",
       "      <th>URL_TA</th>\n",
       "      <th>ID_TA</th>\n",
       "      <th>sample</th>\n",
       "      <th>Rating</th>\n",
       "    </tr>\n",
       "  </thead>\n",
       "  <tbody>\n",
       "    <tr>\n",
       "      <th>344</th>\n",
       "      <td>id_344</td>\n",
       "      <td>Amsterdam</td>\n",
       "      <td>['Vegetarian Friendly', 'Vegan Options']</td>\n",
       "      <td>1042.0</td>\n",
       "      <td>$$ - $$$</td>\n",
       "      <td>138.0</td>\n",
       "      <td>[['A taste of the Maghreb!', 'YUMMY AND YUMMY!...</td>\n",
       "      <td>/Restaurant_Review-g188590-d875450-Reviews-Rai...</td>\n",
       "      <td>d875450</td>\n",
       "      <td>0</td>\n",
       "      <td>0.0</td>\n",
       "    </tr>\n",
       "    <tr>\n",
       "      <th>4897</th>\n",
       "      <td>id_4897</td>\n",
       "      <td>Lisbon</td>\n",
       "      <td>['Mediterranean', 'European', 'Portuguese', 'V...</td>\n",
       "      <td>225.0</td>\n",
       "      <td>$$ - $$$</td>\n",
       "      <td>277.0</td>\n",
       "      <td>[['Don’t miss out!', 'Delicious'], ['02/13/201...</td>\n",
       "      <td>/Restaurant_Review-g189158-d3864733-Reviews-S_...</td>\n",
       "      <td>d3864733</td>\n",
       "      <td>0</td>\n",
       "      <td>0.0</td>\n",
       "    </tr>\n",
       "    <tr>\n",
       "      <th>19125</th>\n",
       "      <td>id_2690</td>\n",
       "      <td>Berlin</td>\n",
       "      <td>NaN</td>\n",
       "      <td>2692.0</td>\n",
       "      <td>NaN</td>\n",
       "      <td>6.0</td>\n",
       "      <td>[['Cozy, feel-at-home bar with character, goo....</td>\n",
       "      <td>/Restaurant_Review-g187323-d8736286-Reviews-Ga...</td>\n",
       "      <td>d8736286</td>\n",
       "      <td>1</td>\n",
       "      <td>5.0</td>\n",
       "    </tr>\n",
       "    <tr>\n",
       "      <th>32432</th>\n",
       "      <td>id_1250</td>\n",
       "      <td>Zurich</td>\n",
       "      <td>['Pizza']</td>\n",
       "      <td>1255.0</td>\n",
       "      <td>NaN</td>\n",
       "      <td>7.0</td>\n",
       "      <td>[['Excellent'], ['10/04/2015']]</td>\n",
       "      <td>/Restaurant_Review-g188113-d7223432-Reviews-Bi...</td>\n",
       "      <td>d7223432</td>\n",
       "      <td>1</td>\n",
       "      <td>4.0</td>\n",
       "    </tr>\n",
       "    <tr>\n",
       "      <th>7664</th>\n",
       "      <td>id_7664</td>\n",
       "      <td>Oporto</td>\n",
       "      <td>['Japanese', 'Sushi', 'European', 'Asian', 'Ve...</td>\n",
       "      <td>284.0</td>\n",
       "      <td>$$ - $$$</td>\n",
       "      <td>286.0</td>\n",
       "      <td>[['Very good food at a fair price.', 'Good! De...</td>\n",
       "      <td>/Restaurant_Review-g189180-d7736457-Reviews-Di...</td>\n",
       "      <td>d7736457</td>\n",
       "      <td>0</td>\n",
       "      <td>0.0</td>\n",
       "    </tr>\n",
       "  </tbody>\n",
       "</table>\n",
       "</div>"
      ],
      "text/plain": [
       "      Restaurant_id       City  \\\n",
       "344          id_344  Amsterdam   \n",
       "4897        id_4897     Lisbon   \n",
       "19125       id_2690     Berlin   \n",
       "32432       id_1250     Zurich   \n",
       "7664        id_7664     Oporto   \n",
       "\n",
       "                                           Cuisine Style  Ranking Price Range  \\\n",
       "344             ['Vegetarian Friendly', 'Vegan Options']   1042.0    $$ - $$$   \n",
       "4897   ['Mediterranean', 'European', 'Portuguese', 'V...    225.0    $$ - $$$   \n",
       "19125                                                NaN   2692.0         NaN   \n",
       "32432                                          ['Pizza']   1255.0         NaN   \n",
       "7664   ['Japanese', 'Sushi', 'European', 'Asian', 'Ve...    284.0    $$ - $$$   \n",
       "\n",
       "       Number of Reviews                                            Reviews  \\\n",
       "344                138.0  [['A taste of the Maghreb!', 'YUMMY AND YUMMY!...   \n",
       "4897               277.0  [['Don’t miss out!', 'Delicious'], ['02/13/201...   \n",
       "19125                6.0  [['Cozy, feel-at-home bar with character, goo....   \n",
       "32432                7.0                    [['Excellent'], ['10/04/2015']]   \n",
       "7664               286.0  [['Very good food at a fair price.', 'Good! De...   \n",
       "\n",
       "                                                  URL_TA     ID_TA  sample  \\\n",
       "344    /Restaurant_Review-g188590-d875450-Reviews-Rai...   d875450       0   \n",
       "4897   /Restaurant_Review-g189158-d3864733-Reviews-S_...  d3864733       0   \n",
       "19125  /Restaurant_Review-g187323-d8736286-Reviews-Ga...  d8736286       1   \n",
       "32432  /Restaurant_Review-g188113-d7223432-Reviews-Bi...  d7223432       1   \n",
       "7664   /Restaurant_Review-g189180-d7736457-Reviews-Di...  d7736457       0   \n",
       "\n",
       "       Rating  \n",
       "344       0.0  \n",
       "4897      0.0  \n",
       "19125     5.0  \n",
       "32432     4.0  \n",
       "7664      0.0  "
      ]
     },
     "execution_count": 11,
     "metadata": {},
     "output_type": "execute_result"
    }
   ],
   "source": [
    "data.sample(5)"
   ]
  },
  {
   "cell_type": "markdown",
   "metadata": {},
   "source": [
    "# Cleaning and Prepping Data\n",
    "Обычно данные содержат в себе кучу мусора, который необходимо почистить, для того чтобы привести их в приемлемый формат. Чистка данных — это необходимый этап решения почти любой реальной задачи.   \n",
    "![](https://analyticsindiamag.com/wp-content/uploads/2018/01/data-cleaning.png)"
   ]
  },
  {
   "cell_type": "markdown",
   "metadata": {},
   "source": [
    "## 1. Обработка NAN \n",
    "У наличия пропусков могут быть разные причины, но пропуски нужно либо заполнить, либо исключить из набора полностью. Но с пропусками нужно быть внимательным, **даже отсутствие информации может быть важным признаком!**   \n",
    "По этому перед обработкой NAN лучше вынести информацию о наличии пропуска как отдельный признак "
   ]
  },
  {
   "cell_type": "code",
   "execution_count": 12,
   "metadata": {
    "execution": {
     "iopub.execute_input": "2021-05-25T16:45:28.523430Z",
     "iopub.status.busy": "2021-05-25T16:45:28.523119Z",
     "iopub.status.idle": "2021-05-25T16:45:28.539672Z",
     "shell.execute_reply": "2021-05-25T16:45:28.538796Z",
     "shell.execute_reply.started": "2021-05-25T16:45:28.523378Z"
    }
   },
   "outputs": [
    {
     "data": {
      "text/plain": [
       "0        0\n",
       "1        0\n",
       "2        0\n",
       "3        0\n",
       "4        0\n",
       "        ..\n",
       "49995    0\n",
       "49996    0\n",
       "49997    0\n",
       "49998    0\n",
       "49999    0\n",
       "Name: Number of Reviews, Length: 50000, dtype: uint8"
      ]
     },
     "execution_count": 12,
     "metadata": {},
     "output_type": "execute_result"
    }
   ],
   "source": [
    "# Для примера я возьму столбец Number of Reviews\n",
    "pd.isna(data['Number of Reviews']).astype('uint8')"
   ]
  },
  {
   "cell_type": "code",
   "execution_count": 13,
   "metadata": {
    "execution": {
     "iopub.execute_input": "2021-05-25T16:45:28.541423Z",
     "iopub.status.busy": "2021-05-25T16:45:28.541106Z",
     "iopub.status.idle": "2021-05-25T16:45:28.552038Z",
     "shell.execute_reply": "2021-05-25T16:45:28.551228Z",
     "shell.execute_reply.started": "2021-05-25T16:45:28.541370Z"
    }
   },
   "outputs": [],
   "source": [
    "# Далее заполняем пропуски 0, вы можете попробовать заполнением средним или средним по городу и тд...\n",
    "data['Number of Reviews'].fillna(0, inplace=True)"
   ]
  },
  {
   "cell_type": "markdown",
   "metadata": {},
   "source": [
    "### 2. Обработка признаков\n",
    "Для начала посмотрим какие признаки у нас могут быть категориальными."
   ]
  },
  {
   "cell_type": "code",
   "execution_count": 14,
   "metadata": {
    "execution": {
     "iopub.execute_input": "2021-05-25T16:45:28.554512Z",
     "iopub.status.busy": "2021-05-25T16:45:28.553979Z",
     "iopub.status.idle": "2021-05-25T16:45:28.580323Z",
     "shell.execute_reply": "2021-05-25T16:45:28.579401Z",
     "shell.execute_reply.started": "2021-05-25T16:45:28.554439Z"
    }
   },
   "outputs": [],
   "source": [
    "# для One-Hot Encoding в pandas есть готовая функция - get_dummies. Особенно радует параметр dummy_na\n",
    "cities = pd.get_dummies(data[['City']], dummy_na = True)"
   ]
  },
  {
   "cell_type": "markdown",
   "metadata": {},
   "source": [
    "#### Возьмем следующий признак \"Price Range\"."
   ]
  },
  {
   "cell_type": "code",
   "execution_count": 15,
   "metadata": {
    "execution": {
     "iopub.execute_input": "2021-05-25T16:45:28.582537Z",
     "iopub.status.busy": "2021-05-25T16:45:28.581895Z",
     "iopub.status.idle": "2021-05-25T16:45:28.601267Z",
     "shell.execute_reply": "2021-05-25T16:45:28.600272Z",
     "shell.execute_reply.started": "2021-05-25T16:45:28.582469Z"
    }
   },
   "outputs": [
    {
     "data": {
      "text/plain": [
       "$$ - $$$    23041\n",
       "$            7816\n",
       "$$$$         1782\n",
       "Name: Price Range, dtype: int64"
      ]
     },
     "execution_count": 15,
     "metadata": {},
     "output_type": "execute_result"
    }
   ],
   "source": [
    "data['Price Range'].value_counts()"
   ]
  },
  {
   "cell_type": "code",
   "execution_count": 16,
   "metadata": {
    "execution": {
     "iopub.execute_input": "2021-05-25T16:45:28.603481Z",
     "iopub.status.busy": "2021-05-25T16:45:28.602885Z",
     "iopub.status.idle": "2021-05-25T16:45:28.644755Z",
     "shell.execute_reply": "2021-05-25T16:45:28.643737Z",
     "shell.execute_reply.started": "2021-05-25T16:45:28.603425Z"
    }
   },
   "outputs": [],
   "source": [
    "# Ваша обработка 'Price Range'\n",
    "\n",
    "def price(value):\n",
    "    if value == '$':\n",
    "        return 1\n",
    "    elif value == '$$ - $$$':\n",
    "        return 2\n",
    "    elif value == '$$$$':\n",
    "        return 3\n",
    "    else: \n",
    "        return value\n",
    "\n",
    "price_range = data['Price Range'].apply(price)\n",
    "\n",
    "# Заменим здесь пропуски на моду\n",
    "price_range = price_range.fillna(price_range.mode()[0])\n"
   ]
  },
  {
   "cell_type": "code",
   "execution_count": 17,
   "metadata": {
    "execution": {
     "iopub.execute_input": "2021-05-25T16:45:28.646312Z",
     "iopub.status.busy": "2021-05-25T16:45:28.646023Z",
     "iopub.status.idle": "2021-05-25T16:45:28.770898Z",
     "shell.execute_reply": "2021-05-25T16:45:28.770016Z",
     "shell.execute_reply.started": "2021-05-25T16:45:28.646263Z"
    }
   },
   "outputs": [],
   "source": [
    "# Добавим информацию о разнообразии меню (количесвте кухонь)\n",
    "\n",
    "cuisine_count = list()\n",
    "cuisine_set = set()\n",
    "for cuisine_obj in data['Cuisine Style']:\n",
    "    if type(cuisine_obj) != float:\n",
    "        cuisine_list = cuisine_obj[2:-2].split(\"', '\")\n",
    "        cuisine_count.append(len(cuisine_list))\n",
    "        for cuisine in cuisine_list:\n",
    "            cuisine_set.add(cuisine)\n",
    "    else:\n",
    "        cuisine_count.append(1)\n",
    "        \n",
    "cuisines = pd.Series(cuisine_count, name = 'Cuisine Counter')\n"
   ]
  },
  {
   "cell_type": "code",
   "execution_count": 18,
   "metadata": {
    "execution": {
     "iopub.execute_input": "2021-05-25T16:45:28.772833Z",
     "iopub.status.busy": "2021-05-25T16:45:28.772331Z",
     "iopub.status.idle": "2021-05-25T16:46:57.836183Z",
     "shell.execute_reply": "2021-05-25T16:46:57.834986Z",
     "shell.execute_reply.started": "2021-05-25T16:45:28.772765Z"
    }
   },
   "outputs": [],
   "source": [
    "# Создадим Dummy-переменные для разных кухонь\n",
    "        \n",
    "data['Cuisine Style'] = data['Cuisine Style'].dropna().apply(lambda x: x[2:-2].split(\"', '\"))\n",
    "cuisine_frame = pd.DataFrame(0, index = range(40000), columns = cuisine_set)\n",
    "i = -1\n",
    "for line in data['Cuisine Style']:\n",
    "    i += 1\n",
    "    if type(line) != float:\n",
    "        for cuisine in line:\n",
    "            cuisine_frame[cuisine][i] = 1\n",
    "    else: \n",
    "        continue"
   ]
  },
  {
   "cell_type": "markdown",
   "metadata": {},
   "source": [
    "# EDA \n",
    "[Exploratory Data Analysis](https://ru.wikipedia.org/wiki/Разведочный_анализ_данных) - Анализ данных\n",
    "На этом этапе мы строим графики, ищем закономерности, аномалии, выбросы или связи между признаками.\n",
    "В общем цель этого этапа понять, что эти данные могут нам дать и как признаки могут быть взаимосвязаны между собой.\n",
    "Понимание изначальных признаков позволит сгенерировать новые, более сильные и, тем самым, сделать нашу модель лучше.\n",
    "![](https://miro.medium.com/max/2598/1*RXdMb7Uk6mGqWqPguHULaQ.png)"
   ]
  },
  {
   "cell_type": "markdown",
   "metadata": {},
   "source": [
    "### Посмотрим распределение признака"
   ]
  },
  {
   "cell_type": "code",
   "execution_count": 19,
   "metadata": {
    "execution": {
     "iopub.execute_input": "2021-05-25T16:46:57.838439Z",
     "iopub.status.busy": "2021-05-25T16:46:57.837992Z",
     "iopub.status.idle": "2021-05-25T16:46:57.854706Z",
     "shell.execute_reply": "2021-05-25T16:46:57.853372Z",
     "shell.execute_reply.started": "2021-05-25T16:46:57.838358Z"
    }
   },
   "outputs": [
    {
     "data": {
      "text/plain": [
       "1080.0     19\n",
       "437.0      18\n",
       "491.0      18\n",
       "345.0      18\n",
       "431.0      18\n",
       "           ..\n",
       "14711.0     1\n",
       "9409.0      1\n",
       "14109.0     1\n",
       "10501.0     1\n",
       "5699.0      1\n",
       "Name: Ranking, Length: 11936, dtype: int64"
      ]
     },
     "execution_count": 19,
     "metadata": {},
     "output_type": "execute_result"
    }
   ],
   "source": [
    "df_train['Ranking'].value_counts()"
   ]
  },
  {
   "cell_type": "code",
   "execution_count": 20,
   "metadata": {
    "execution": {
     "iopub.execute_input": "2021-05-25T16:46:57.856743Z",
     "iopub.status.busy": "2021-05-25T16:46:57.856339Z",
     "iopub.status.idle": "2021-05-25T16:46:58.357390Z",
     "shell.execute_reply": "2021-05-25T16:46:58.356326Z",
     "shell.execute_reply.started": "2021-05-25T16:46:57.856576Z"
    }
   },
   "outputs": [
    {
     "data": {
      "text/plain": [
       "<matplotlib.axes._subplots.AxesSubplot at 0x7f1ddfafd940>"
      ]
     },
     "execution_count": 20,
     "metadata": {},
     "output_type": "execute_result"
    },
    {
     "data": {
      "image/png": "[encoded data removed]",
      "text/plain": [
       "<Figure size 720x504 with 1 Axes>"
      ]
     },
     "metadata": {
      "needs_background": "light"
     },
     "output_type": "display_data"
    }
   ],
   "source": [
    "plt.rcParams['figure.figsize'] = (10,7)\n",
    "df_train['Ranking'].hist(bins=100)"
   ]
  },
  {
   "cell_type": "markdown",
   "metadata": {},
   "source": [
    "У нас много ресторанов, которые не дотягивают и до 2500 места в своем городе, а что там по городам?"
   ]
  },
  {
   "cell_type": "code",
   "execution_count": 21,
   "metadata": {
    "execution": {
     "iopub.execute_input": "2021-05-25T16:46:58.359697Z",
     "iopub.status.busy": "2021-05-25T16:46:58.359066Z",
     "iopub.status.idle": "2021-05-25T16:46:58.821193Z",
     "shell.execute_reply": "2021-05-25T16:46:58.819869Z",
     "shell.execute_reply.started": "2021-05-25T16:46:58.359625Z"
    }
   },
   "outputs": [
    {
     "data": {
      "text/plain": [
       "<matplotlib.axes._subplots.AxesSubplot at 0x7f1dcbccf908>"
      ]
     },
     "execution_count": 21,
     "metadata": {},
     "output_type": "execute_result"
    },
    {
     "data": {
      "image/png": "[encoded data removed]",
      "text/plain": [
       "<Figure size 720x504 with 1 Axes>"
      ]
     },
     "metadata": {
      "needs_background": "light"
     },
     "output_type": "display_data"
    }
   ],
   "source": [
    "df_train['City'].value_counts(ascending=True).plot(kind='barh')"
   ]
  },
  {
   "cell_type": "markdown",
   "metadata": {},
   "source": [
    "А кто-то говорил, что французы любят поесть=) Посмотрим, как изменится распределение в большом городе:"
   ]
  },
  {
   "cell_type": "code",
   "execution_count": 22,
   "metadata": {
    "execution": {
     "iopub.execute_input": "2021-05-25T16:46:58.823881Z",
     "iopub.status.busy": "2021-05-25T16:46:58.823112Z",
     "iopub.status.idle": "2021-05-25T16:46:59.329285Z",
     "shell.execute_reply": "2021-05-25T16:46:59.328009Z",
     "shell.execute_reply.started": "2021-05-25T16:46:58.823809Z"
    }
   },
   "outputs": [
    {
     "data": {
      "text/plain": [
       "<matplotlib.axes._subplots.AxesSubplot at 0x7f1dc7545390>"
      ]
     },
     "execution_count": 22,
     "metadata": {},
     "output_type": "execute_result"
    },
    {
     "data": {
      "image/png": "[encoded data removed]",
      "text/plain": [
       "<Figure size 720x504 with 1 Axes>"
      ]
     },
     "metadata": {
      "needs_background": "light"
     },
     "output_type": "display_data"
    }
   ],
   "source": [
    "df_train['Ranking'][df_train['City'] =='London'].hist(bins=100)"
   ]
  },
  {
   "cell_type": "code",
   "execution_count": 23,
   "metadata": {
    "execution": {
     "iopub.execute_input": "2021-05-25T16:46:59.331749Z",
     "iopub.status.busy": "2021-05-25T16:46:59.331190Z",
     "iopub.status.idle": "2021-05-25T16:47:02.126448Z",
     "shell.execute_reply": "2021-05-25T16:47:02.125342Z",
     "shell.execute_reply.started": "2021-05-25T16:46:59.331683Z"
    }
   },
   "outputs": [
    {
     "data": {
      "image/png": "[encoded data removed]",
      "text/plain": [
       "<Figure size 720x504 with 1 Axes>"
      ]
     },
     "metadata": {
      "needs_background": "light"
     },
     "output_type": "display_data"
    }
   ],
   "source": [
    "# посмотрим на топ 10 городов\n",
    "for x in (df_train['City'].value_counts())[0:10].index:\n",
    "    df_train['Ranking'][df_train['City'] == x].hist(bins=100)\n",
    "plt.show()"
   ]
  },
  {
   "cell_type": "markdown",
   "metadata": {},
   "source": [
    "Получается, что Ranking имеет нормальное распределение, просто в больших городах больше ресторанов, из-за мы этого имеем смещение.\n",
    "\n",
    ">Подумайте как из этого можно сделать признак для вашей модели. Я покажу вам пример, как визуализация помогает находить взаимосвязи. А далее действуйте без подсказок =) \n"
   ]
  },
  {
   "cell_type": "markdown",
   "metadata": {},
   "source": [
    "### Посмотрим распределение целевой переменной"
   ]
  },
  {
   "cell_type": "code",
   "execution_count": 24,
   "metadata": {
    "execution": {
     "iopub.execute_input": "2021-05-25T16:47:02.128803Z",
     "iopub.status.busy": "2021-05-25T16:47:02.128151Z",
     "iopub.status.idle": "2021-05-25T16:47:02.418350Z",
     "shell.execute_reply": "2021-05-25T16:47:02.417122Z",
     "shell.execute_reply.started": "2021-05-25T16:47:02.128726Z"
    }
   },
   "outputs": [
    {
     "data": {
      "text/plain": [
       "<matplotlib.axes._subplots.AxesSubplot at 0x7f1dc7414160>"
      ]
     },
     "execution_count": 24,
     "metadata": {},
     "output_type": "execute_result"
    },
    {
     "data": {
      "image/png": "[encoded data removed]",
      "text/plain": [
       "<Figure size 720x504 with 1 Axes>"
      ]
     },
     "metadata": {
      "needs_background": "light"
     },
     "output_type": "display_data"
    }
   ],
   "source": [
    "df_train['Rating'].value_counts(ascending=True).plot(kind='barh')"
   ]
  },
  {
   "cell_type": "markdown",
   "metadata": {},
   "source": [
    "### Посмотрим распределение целевой переменной относительно признака"
   ]
  },
  {
   "cell_type": "code",
   "execution_count": 25,
   "metadata": {
    "execution": {
     "iopub.execute_input": "2021-05-25T16:47:02.421033Z",
     "iopub.status.busy": "2021-05-25T16:47:02.420298Z",
     "iopub.status.idle": "2021-05-25T16:47:02.955839Z",
     "shell.execute_reply": "2021-05-25T16:47:02.954334Z",
     "shell.execute_reply.started": "2021-05-25T16:47:02.420963Z"
    }
   },
   "outputs": [
    {
     "data": {
      "text/plain": [
       "<matplotlib.axes._subplots.AxesSubplot at 0x7f1dc6add160>"
      ]
     },
     "execution_count": 25,
     "metadata": {},
     "output_type": "execute_result"
    },
    {
     "data": {
      "image/png": "[encoded data removed]",
      "text/plain": [
       "<Figure size 720x504 with 1 Axes>"
      ]
     },
     "metadata": {
      "needs_background": "light"
     },
     "output_type": "display_data"
    }
   ],
   "source": [
    "df_train['Ranking'][df_train['Rating'] == 5].hist(bins=100)"
   ]
  },
  {
   "cell_type": "code",
   "execution_count": 26,
   "metadata": {
    "execution": {
     "iopub.execute_input": "2021-05-25T16:47:02.958492Z",
     "iopub.status.busy": "2021-05-25T16:47:02.957840Z",
     "iopub.status.idle": "2021-05-25T16:47:03.475119Z",
     "shell.execute_reply": "2021-05-25T16:47:03.473497Z",
     "shell.execute_reply.started": "2021-05-25T16:47:02.958217Z"
    }
   },
   "outputs": [
    {
     "data": {
      "text/plain": [
       "<matplotlib.axes._subplots.AxesSubplot at 0x7f1dc68c0ac8>"
      ]
     },
     "execution_count": 26,
     "metadata": {},
     "output_type": "execute_result"
    },
    {
     "data": {
      "image/png": "[encoded data removed]",
      "text/plain": [
       "<Figure size 720x504 with 1 Axes>"
      ]
     },
     "metadata": {
      "needs_background": "light"
     },
     "output_type": "display_data"
    }
   ],
   "source": [
    "df_train['Ranking'][df_train['Rating'] < 4].hist(bins=100)"
   ]
  },
  {
   "cell_type": "markdown",
   "metadata": {},
   "source": [
    "### И один из моих любимых - [корреляция признаков](https://ru.wikipedia.org/wiki/Корреляция)\n",
    "На этом графике уже сейчас вы сможете заметить, как признаки связаны между собой и с целевой переменной."
   ]
  },
  {
   "cell_type": "code",
   "execution_count": 27,
   "metadata": {
    "execution": {
     "iopub.execute_input": "2021-05-25T16:47:03.477655Z",
     "iopub.status.busy": "2021-05-25T16:47:03.477233Z",
     "iopub.status.idle": "2021-05-25T16:47:03.848486Z",
     "shell.execute_reply": "2021-05-25T16:47:03.846846Z",
     "shell.execute_reply.started": "2021-05-25T16:47:03.477591Z"
    }
   },
   "outputs": [
    {
     "data": {
      "text/plain": [
       "<matplotlib.axes._subplots.AxesSubplot at 0x7f1dc6c132b0>"
      ]
     },
     "execution_count": 27,
     "metadata": {},
     "output_type": "execute_result"
    },
    {
     "data": {
      "image/png": "[encoded data removed]",
      "text/plain": [
       "<Figure size 1080x720 with 2 Axes>"
      ]
     },
     "metadata": {
      "needs_background": "light"
     },
     "output_type": "display_data"
    }
   ],
   "source": [
    "plt.rcParams['figure.figsize'] = (15,10)\n",
    "sns.heatmap(data.drop(['sample'], axis=1).corr(),)"
   ]
  },
  {
   "cell_type": "markdown",
   "metadata": {},
   "source": [
    "Вообще благодаря визуализации в этом датасете можно узнать много интересных фактов, например:\n",
    "* где больше Пицерий в Мадриде или Лондоне?\n",
    "* в каком городе кухня ресторанов более разнообразна?\n",
    "\n",
    "придумайте свои вопрос и найдите на него ответ в данных)"
   ]
  },
  {
   "cell_type": "markdown",
   "metadata": {},
   "source": [
    "# Data Preprocessing\n",
    "Теперь, для удобства и воспроизводимости кода, завернем всю обработку в одну большую функцию."
   ]
  },
  {
   "cell_type": "code",
   "execution_count": 28,
   "metadata": {
    "execution": {
     "iopub.execute_input": "2021-05-25T17:14:25.135976Z",
     "iopub.status.busy": "2021-05-25T17:14:25.135654Z",
     "iopub.status.idle": "2021-05-25T17:14:25.428226Z",
     "shell.execute_reply": "2021-05-25T17:14:25.427210Z",
     "shell.execute_reply.started": "2021-05-25T17:14:25.135924Z"
    }
   },
   "outputs": [
    {
     "name": "stdout",
     "output_type": "stream",
     "text": [
      "<class 'pandas.core.frame.DataFrame'>\n",
      "RangeIndex: 50000 entries, 0 to 49999\n",
      "Data columns (total 11 columns):\n",
      "Restaurant_id        50000 non-null object\n",
      "City                 50000 non-null object\n",
      "Cuisine Style        38410 non-null object\n",
      "Ranking              50000 non-null float64\n",
      "Price Range          32639 non-null object\n",
      "Number of Reviews    46800 non-null float64\n",
      "Reviews              49998 non-null object\n",
      "URL_TA               50000 non-null object\n",
      "ID_TA                50000 non-null object\n",
      "sample               50000 non-null int64\n",
      "Rating               50000 non-null float64\n",
      "dtypes: float64(3), int64(1), object(7)\n",
      "memory usage: 4.2+ MB\n"
     ]
    }
   ],
   "source": [
    "# на всякий случай, заново подгружаем данные\n",
    "df_train = pd.read_csv(DATA_DIR+'/main_task.csv')\n",
    "df_test = pd.read_csv(DATA_DIR+'/kaggle_task.csv')\n",
    "df_train['sample'] = 1 # помечаем где у нас трейн\n",
    "df_test['sample'] = 0 # помечаем где у нас тест\n",
    "df_test['Rating'] = 0 # в тесте у нас нет значения Rating, мы его должны предсказать, по этому пока просто заполняем нулями\n",
    "\n",
    "data = df_test.append(df_train, sort=False).reset_index(drop=True) # объединяем\n",
    "data.info()"
   ]
  },
  {
   "cell_type": "code",
   "execution_count": 29,
   "metadata": {
    "execution": {
     "iopub.execute_input": "2021-05-25T17:14:25.897074Z",
     "iopub.status.busy": "2021-05-25T17:14:25.896773Z",
     "iopub.status.idle": "2021-05-25T17:14:25.923892Z",
     "shell.execute_reply": "2021-05-25T17:14:25.923004Z",
     "shell.execute_reply.started": "2021-05-25T17:14:25.897028Z"
    }
   },
   "outputs": [],
   "source": [
    "def preproc_data(df):\n",
    "    '''includes several functions to pre-process the predictor data.'''\n",
    "    \n",
    "\n",
    "    # Приведем разброс цен к числовому значению, где 1 - самый низкий, \n",
    "    # а 3 - самый высокий\n",
    "\n",
    "    def price(value):\n",
    "        if value == '$':\n",
    "            return 1\n",
    "        elif value == '$$ - $$$':\n",
    "            return 2\n",
    "        elif value == '$$$$':\n",
    "            return 3\n",
    "        else: \n",
    "            return value\n",
    "\n",
    "    price_range = df['Price Range'].apply(price)\n",
    "\n",
    "    # Заменим здесь пропуски на моду\n",
    "    price_range = price_range.fillna(price_range.mode()[0])\n",
    "\n",
    "\n",
    "    # Добавим информацию о разнообразии меню (количестве кухонь)\n",
    "\n",
    "    cuisine_count = list()\n",
    "    cuisine_set = set()\n",
    "    for cuisine_obj in df['Cuisine Style']:\n",
    "        if type(cuisine_obj) != float:\n",
    "            cuisine_list = cuisine_obj[2:-2].split(\"', '\")\n",
    "            cuisine_count.append(len(cuisine_list))\n",
    "            for cuisine in cuisine_list:\n",
    "                cuisine_set.add(cuisine)\n",
    "        else:\n",
    "            cuisine_count.append(1)\n",
    "\n",
    "    cuisines = pd.Series(cuisine_count, name = 'Cuisine Counter')\n",
    "\n",
    "\n",
    "    # Создадим Dummy-переменные для разных кухонь\n",
    "\n",
    "    df['Cuisine Style'] = df['Cuisine Style'].dropna().apply(lambda x: x[2:-2].split(\"', '\"))\n",
    "    cuisine_frame = pd.DataFrame(0, index = range(len(df)), columns = cuisine_set)\n",
    "    i = -1\n",
    "    for line in df['Cuisine Style']:\n",
    "        i += 1\n",
    "        if type(line) != float:\n",
    "            for cuisine in line:\n",
    "                cuisine_frame[cuisine][i] = 1\n",
    "        else: \n",
    "            continue\n",
    "\n",
    "    # Создадим Dummy-переменные для городов\n",
    "\n",
    "    cities = pd.get_dummies(df[['City']], dummy_na = True)\n",
    "\n",
    "    # Создадим новый признак о разнице во времени между двумя последними отзывами\n",
    "\n",
    "    review_delta = list()\n",
    "    for review_obj in df['Reviews']:\n",
    "        if (review_obj == '[[], []]') or type(review_obj) == float:\n",
    "             review_delta.append(None)\n",
    "        else:\n",
    "            review = review_obj[2:-2].split(\"], [\")\n",
    "            review_list = [review[i][1:-1].split(\"', '\") for i in range(2)]\n",
    "            date_list = [datetime.strptime(review_list[1][i], '%m/%d/%Y') \n",
    "                         for i in range(len(review_list[1]))]\n",
    "            review_delta.append(np.max(date_list) - np.min(date_list))\n",
    "\n",
    "    review_delta = pd.Series(review_delta).apply(lambda x: x.days)\n",
    "\n",
    "    # Избавимся от выбросов в timedelta отзывов\n",
    "\n",
    "    def way_too_big_delta(delta):\n",
    "        IQR = review_delta.quantile(0.75) - review_delta.quantile(0.25)\n",
    "        upper_limit = review_delta.mean() + 1.5*IQR\n",
    "        lower_limit = review_delta.mean() - 1.5*IQR\n",
    "        if (delta > upper_limit) or (delta < lower_limit):\n",
    "            return None\n",
    "        else:\n",
    "            return delta\n",
    "\n",
    "    review_delta = review_delta.apply(way_too_big_delta)\n",
    "    review_delta = review_delta.fillna(review_delta.mean())\n",
    "\n",
    "    restaurant_id = df['Restaurant_id'].apply(lambda x: int(x[3:]))\n",
    "\n",
    "    # Избавимся от колонок типа object\n",
    "    columns_to_drop = []\n",
    "\n",
    "    for column in df.columns:\n",
    "        if df[column].dtype == 'O':\n",
    "            columns_to_drop.append(column)\n",
    "\n",
    "    df = df.drop(columns_to_drop, axis = 1)\n",
    "\n",
    "    # Избавимся от пропусков\n",
    "    df = df.fillna(0)\n",
    "    \n",
    "    # Получаем итоговый датасет:\n",
    "    df_output = pd.concat([df, price_range, cuisines, cuisine_frame, \n",
    "                           cities, review_delta, restaurant_id], axis = 1)\n",
    "    \n",
    "    return df_output"
   ]
  },
  {
   "cell_type": "markdown",
   "metadata": {},
   "source": [
    ">По хорошему, можно было бы перевести эту большую функцию в класс и разбить на подфункции (согласно ООП). "
   ]
  },
  {
   "cell_type": "markdown",
   "metadata": {},
   "source": [
    "#### Запускаем и проверяем что получилось"
   ]
  },
  {
   "cell_type": "code",
   "execution_count": 30,
   "metadata": {
    "execution": {
     "iopub.execute_input": "2021-05-25T17:14:29.261859Z",
     "iopub.status.busy": "2021-05-25T17:14:29.261401Z",
     "iopub.status.idle": "2021-05-25T17:18:48.353497Z",
     "shell.execute_reply": "2021-05-25T17:18:48.352450Z",
     "shell.execute_reply.started": "2021-05-25T17:14:29.261817Z"
    }
   },
   "outputs": [
    {
     "data": {
      "text/html": [
       "<div>\n",
       "<style scoped>\n",
       "    .dataframe tbody tr th:only-of-type {\n",
       "        vertical-align: middle;\n",
       "    }\n",
       "\n",
       "    .dataframe tbody tr th {\n",
       "        vertical-align: top;\n",
       "    }\n",
       "\n",
       "    .dataframe thead th {\n",
       "        text-align: right;\n",
       "    }\n",
       "</style>\n",
       "<table border=\"1\" class=\"dataframe\">\n",
       "  <thead>\n",
       "    <tr style=\"text-align: right;\">\n",
       "      <th></th>\n",
       "      <th>Ranking</th>\n",
       "      <th>Number of Reviews</th>\n",
       "      <th>sample</th>\n",
       "      <th>Rating</th>\n",
       "      <th>Price Range</th>\n",
       "      <th>Cuisine Counter</th>\n",
       "      <th>Romanian</th>\n",
       "      <th>Norwegian</th>\n",
       "      <th>Soups</th>\n",
       "      <th>Swedish</th>\n",
       "      <th>...</th>\n",
       "      <th>City_Paris</th>\n",
       "      <th>City_Prague</th>\n",
       "      <th>City_Rome</th>\n",
       "      <th>City_Stockholm</th>\n",
       "      <th>City_Vienna</th>\n",
       "      <th>City_Warsaw</th>\n",
       "      <th>City_Zurich</th>\n",
       "      <th>City_nan</th>\n",
       "      <th>0</th>\n",
       "      <th>Restaurant_id</th>\n",
       "    </tr>\n",
       "  </thead>\n",
       "  <tbody>\n",
       "    <tr>\n",
       "      <th>16052</th>\n",
       "      <td>684.0</td>\n",
       "      <td>22.0</td>\n",
       "      <td>1</td>\n",
       "      <td>4.0</td>\n",
       "      <td>2.0</td>\n",
       "      <td>2</td>\n",
       "      <td>0</td>\n",
       "      <td>0</td>\n",
       "      <td>0</td>\n",
       "      <td>0</td>\n",
       "      <td>...</td>\n",
       "      <td>0</td>\n",
       "      <td>0</td>\n",
       "      <td>0</td>\n",
       "      <td>0</td>\n",
       "      <td>0</td>\n",
       "      <td>1</td>\n",
       "      <td>0</td>\n",
       "      <td>0</td>\n",
       "      <td>70.761891</td>\n",
       "      <td>683</td>\n",
       "    </tr>\n",
       "    <tr>\n",
       "      <th>7718</th>\n",
       "      <td>170.0</td>\n",
       "      <td>44.0</td>\n",
       "      <td>0</td>\n",
       "      <td>0.0</td>\n",
       "      <td>1.0</td>\n",
       "      <td>7</td>\n",
       "      <td>0</td>\n",
       "      <td>0</td>\n",
       "      <td>0</td>\n",
       "      <td>0</td>\n",
       "      <td>...</td>\n",
       "      <td>0</td>\n",
       "      <td>0</td>\n",
       "      <td>0</td>\n",
       "      <td>0</td>\n",
       "      <td>0</td>\n",
       "      <td>0</td>\n",
       "      <td>0</td>\n",
       "      <td>0</td>\n",
       "      <td>33.000000</td>\n",
       "      <td>7718</td>\n",
       "    </tr>\n",
       "    <tr>\n",
       "      <th>15372</th>\n",
       "      <td>550.0</td>\n",
       "      <td>16.0</td>\n",
       "      <td>1</td>\n",
       "      <td>4.5</td>\n",
       "      <td>2.0</td>\n",
       "      <td>1</td>\n",
       "      <td>0</td>\n",
       "      <td>0</td>\n",
       "      <td>0</td>\n",
       "      <td>0</td>\n",
       "      <td>...</td>\n",
       "      <td>0</td>\n",
       "      <td>0</td>\n",
       "      <td>0</td>\n",
       "      <td>0</td>\n",
       "      <td>0</td>\n",
       "      <td>0</td>\n",
       "      <td>0</td>\n",
       "      <td>0</td>\n",
       "      <td>35.000000</td>\n",
       "      <td>549</td>\n",
       "    </tr>\n",
       "    <tr>\n",
       "      <th>17789</th>\n",
       "      <td>696.0</td>\n",
       "      <td>126.0</td>\n",
       "      <td>1</td>\n",
       "      <td>4.0</td>\n",
       "      <td>2.0</td>\n",
       "      <td>1</td>\n",
       "      <td>0</td>\n",
       "      <td>0</td>\n",
       "      <td>0</td>\n",
       "      <td>0</td>\n",
       "      <td>...</td>\n",
       "      <td>0</td>\n",
       "      <td>0</td>\n",
       "      <td>0</td>\n",
       "      <td>0</td>\n",
       "      <td>0</td>\n",
       "      <td>0</td>\n",
       "      <td>0</td>\n",
       "      <td>0</td>\n",
       "      <td>285.000000</td>\n",
       "      <td>695</td>\n",
       "    </tr>\n",
       "    <tr>\n",
       "      <th>25192</th>\n",
       "      <td>331.0</td>\n",
       "      <td>425.0</td>\n",
       "      <td>1</td>\n",
       "      <td>4.5</td>\n",
       "      <td>2.0</td>\n",
       "      <td>7</td>\n",
       "      <td>0</td>\n",
       "      <td>0</td>\n",
       "      <td>0</td>\n",
       "      <td>0</td>\n",
       "      <td>...</td>\n",
       "      <td>1</td>\n",
       "      <td>0</td>\n",
       "      <td>0</td>\n",
       "      <td>0</td>\n",
       "      <td>0</td>\n",
       "      <td>0</td>\n",
       "      <td>0</td>\n",
       "      <td>0</td>\n",
       "      <td>8.000000</td>\n",
       "      <td>330</td>\n",
       "    </tr>\n",
       "    <tr>\n",
       "      <th>47372</th>\n",
       "      <td>5599.0</td>\n",
       "      <td>235.0</td>\n",
       "      <td>1</td>\n",
       "      <td>4.0</td>\n",
       "      <td>2.0</td>\n",
       "      <td>6</td>\n",
       "      <td>0</td>\n",
       "      <td>0</td>\n",
       "      <td>0</td>\n",
       "      <td>0</td>\n",
       "      <td>...</td>\n",
       "      <td>0</td>\n",
       "      <td>0</td>\n",
       "      <td>0</td>\n",
       "      <td>0</td>\n",
       "      <td>0</td>\n",
       "      <td>0</td>\n",
       "      <td>0</td>\n",
       "      <td>0</td>\n",
       "      <td>14.000000</td>\n",
       "      <td>5590</td>\n",
       "    </tr>\n",
       "    <tr>\n",
       "      <th>13464</th>\n",
       "      <td>434.0</td>\n",
       "      <td>135.0</td>\n",
       "      <td>1</td>\n",
       "      <td>4.0</td>\n",
       "      <td>2.0</td>\n",
       "      <td>5</td>\n",
       "      <td>0</td>\n",
       "      <td>0</td>\n",
       "      <td>0</td>\n",
       "      <td>0</td>\n",
       "      <td>...</td>\n",
       "      <td>0</td>\n",
       "      <td>0</td>\n",
       "      <td>0</td>\n",
       "      <td>0</td>\n",
       "      <td>0</td>\n",
       "      <td>0</td>\n",
       "      <td>0</td>\n",
       "      <td>0</td>\n",
       "      <td>9.000000</td>\n",
       "      <td>433</td>\n",
       "    </tr>\n",
       "    <tr>\n",
       "      <th>18411</th>\n",
       "      <td>733.0</td>\n",
       "      <td>114.0</td>\n",
       "      <td>1</td>\n",
       "      <td>4.5</td>\n",
       "      <td>2.0</td>\n",
       "      <td>6</td>\n",
       "      <td>0</td>\n",
       "      <td>0</td>\n",
       "      <td>0</td>\n",
       "      <td>0</td>\n",
       "      <td>...</td>\n",
       "      <td>0</td>\n",
       "      <td>0</td>\n",
       "      <td>0</td>\n",
       "      <td>0</td>\n",
       "      <td>0</td>\n",
       "      <td>0</td>\n",
       "      <td>0</td>\n",
       "      <td>0</td>\n",
       "      <td>2.000000</td>\n",
       "      <td>732</td>\n",
       "    </tr>\n",
       "    <tr>\n",
       "      <th>39696</th>\n",
       "      <td>1872.0</td>\n",
       "      <td>15.0</td>\n",
       "      <td>1</td>\n",
       "      <td>4.0</td>\n",
       "      <td>2.0</td>\n",
       "      <td>1</td>\n",
       "      <td>0</td>\n",
       "      <td>0</td>\n",
       "      <td>0</td>\n",
       "      <td>0</td>\n",
       "      <td>...</td>\n",
       "      <td>0</td>\n",
       "      <td>0</td>\n",
       "      <td>0</td>\n",
       "      <td>0</td>\n",
       "      <td>0</td>\n",
       "      <td>0</td>\n",
       "      <td>0</td>\n",
       "      <td>0</td>\n",
       "      <td>70.761891</td>\n",
       "      <td>1869</td>\n",
       "    </tr>\n",
       "    <tr>\n",
       "      <th>18835</th>\n",
       "      <td>1602.0</td>\n",
       "      <td>25.0</td>\n",
       "      <td>1</td>\n",
       "      <td>4.5</td>\n",
       "      <td>2.0</td>\n",
       "      <td>1</td>\n",
       "      <td>0</td>\n",
       "      <td>0</td>\n",
       "      <td>0</td>\n",
       "      <td>0</td>\n",
       "      <td>...</td>\n",
       "      <td>0</td>\n",
       "      <td>0</td>\n",
       "      <td>0</td>\n",
       "      <td>0</td>\n",
       "      <td>0</td>\n",
       "      <td>0</td>\n",
       "      <td>0</td>\n",
       "      <td>0</td>\n",
       "      <td>33.000000</td>\n",
       "      <td>1600</td>\n",
       "    </tr>\n",
       "  </tbody>\n",
       "</table>\n",
       "<p>10 rows × 165 columns</p>\n",
       "</div>"
      ],
      "text/plain": [
       "       Ranking  Number of Reviews  sample  Rating  Price Range  \\\n",
       "16052    684.0               22.0       1     4.0          2.0   \n",
       "7718     170.0               44.0       0     0.0          1.0   \n",
       "15372    550.0               16.0       1     4.5          2.0   \n",
       "17789    696.0              126.0       1     4.0          2.0   \n",
       "25192    331.0              425.0       1     4.5          2.0   \n",
       "47372   5599.0              235.0       1     4.0          2.0   \n",
       "13464    434.0              135.0       1     4.0          2.0   \n",
       "18411    733.0              114.0       1     4.5          2.0   \n",
       "39696   1872.0               15.0       1     4.0          2.0   \n",
       "18835   1602.0               25.0       1     4.5          2.0   \n",
       "\n",
       "       Cuisine Counter  Romanian  Norwegian  Soups  Swedish  ...  City_Paris  \\\n",
       "16052                2         0          0      0        0  ...           0   \n",
       "7718                 7         0          0      0        0  ...           0   \n",
       "15372                1         0          0      0        0  ...           0   \n",
       "17789                1         0          0      0        0  ...           0   \n",
       "25192                7         0          0      0        0  ...           1   \n",
       "47372                6         0          0      0        0  ...           0   \n",
       "13464                5         0          0      0        0  ...           0   \n",
       "18411                6         0          0      0        0  ...           0   \n",
       "39696                1         0          0      0        0  ...           0   \n",
       "18835                1         0          0      0        0  ...           0   \n",
       "\n",
       "       City_Prague  City_Rome  City_Stockholm  City_Vienna  City_Warsaw  \\\n",
       "16052            0          0               0            0            1   \n",
       "7718             0          0               0            0            0   \n",
       "15372            0          0               0            0            0   \n",
       "17789            0          0               0            0            0   \n",
       "25192            0          0               0            0            0   \n",
       "47372            0          0               0            0            0   \n",
       "13464            0          0               0            0            0   \n",
       "18411            0          0               0            0            0   \n",
       "39696            0          0               0            0            0   \n",
       "18835            0          0               0            0            0   \n",
       "\n",
       "       City_Zurich  City_nan           0  Restaurant_id  \n",
       "16052            0         0   70.761891            683  \n",
       "7718             0         0   33.000000           7718  \n",
       "15372            0         0   35.000000            549  \n",
       "17789            0         0  285.000000            695  \n",
       "25192            0         0    8.000000            330  \n",
       "47372            0         0   14.000000           5590  \n",
       "13464            0         0    9.000000            433  \n",
       "18411            0         0    2.000000            732  \n",
       "39696            0         0   70.761891           1869  \n",
       "18835            0         0   33.000000           1600  \n",
       "\n",
       "[10 rows x 165 columns]"
      ]
     },
     "execution_count": 30,
     "metadata": {},
     "output_type": "execute_result"
    }
   ],
   "source": [
    "df_preproc = preproc_data(data)\n",
    "df_preproc.sample(10)"
   ]
  },
  {
   "cell_type": "code",
   "execution_count": 31,
   "metadata": {
    "execution": {
     "iopub.execute_input": "2021-05-25T17:18:48.356861Z",
     "iopub.status.busy": "2021-05-25T17:18:48.356435Z",
     "iopub.status.idle": "2021-05-25T17:18:48.443474Z",
     "shell.execute_reply": "2021-05-25T17:18:48.442544Z",
     "shell.execute_reply.started": "2021-05-25T17:18:48.356783Z"
    }
   },
   "outputs": [],
   "source": [
    "# Теперь выделим тестовую часть\n",
    "train_data = df_preproc.query('sample == 1').drop(['sample'], axis=1)\n",
    "test_data = df_preproc.query('sample == 0').drop(['sample'], axis=1)\n",
    "\n",
    "y = train_data.Rating.values            # наш таргет\n",
    "X = train_data.drop(['Rating'], axis=1)"
   ]
  },
  {
   "cell_type": "markdown",
   "metadata": {},
   "source": [
    "**Перед тем как отправлять наши данные на обучение, разделим данные на еще один тест и трейн, для валидации. \n",
    "Это поможет нам проверить, как хорошо наша модель работает, до отправки submissiona на kaggle.**"
   ]
  },
  {
   "cell_type": "code",
   "execution_count": 32,
   "metadata": {
    "execution": {
     "iopub.execute_input": "2021-05-25T17:18:48.445029Z",
     "iopub.status.busy": "2021-05-25T17:18:48.444769Z",
     "iopub.status.idle": "2021-05-25T17:18:48.493807Z",
     "shell.execute_reply": "2021-05-25T17:18:48.492700Z",
     "shell.execute_reply.started": "2021-05-25T17:18:48.444987Z"
    }
   },
   "outputs": [],
   "source": [
    "# Воспользуемся специальной функцие train_test_split для разбивки тестовых данных\n",
    "# выделим 20% данных на валидацию (параметр test_size)\n",
    "X_train, X_test, y_train, y_test = train_test_split(X, y, test_size=0.2, random_state=RANDOM_SEED)"
   ]
  },
  {
   "cell_type": "code",
   "execution_count": 33,
   "metadata": {
    "execution": {
     "iopub.execute_input": "2021-05-25T17:18:48.495354Z",
     "iopub.status.busy": "2021-05-25T17:18:48.495082Z",
     "iopub.status.idle": "2021-05-25T17:18:48.504384Z",
     "shell.execute_reply": "2021-05-25T17:18:48.501902Z",
     "shell.execute_reply.started": "2021-05-25T17:18:48.495310Z"
    }
   },
   "outputs": [
    {
     "data": {
      "text/plain": [
       "((10000, 164), (40000, 164), (40000, 163), (32000, 163), (8000, 163))"
      ]
     },
     "execution_count": 33,
     "metadata": {},
     "output_type": "execute_result"
    }
   ],
   "source": [
    "# проверяем\n",
    "test_data.shape, train_data.shape, X.shape, X_train.shape, X_test.shape"
   ]
  },
  {
   "cell_type": "markdown",
   "metadata": {},
   "source": [
    "# Model \n",
    "Сам ML"
   ]
  },
  {
   "cell_type": "code",
   "execution_count": 34,
   "metadata": {
    "execution": {
     "iopub.execute_input": "2021-05-25T17:18:48.508255Z",
     "iopub.status.busy": "2021-05-25T17:18:48.507802Z",
     "iopub.status.idle": "2021-05-25T17:18:48.515054Z",
     "shell.execute_reply": "2021-05-25T17:18:48.513932Z",
     "shell.execute_reply.started": "2021-05-25T17:18:48.508148Z"
    }
   },
   "outputs": [],
   "source": [
    "# Импортируем необходимые библиотеки:\n",
    "from sklearn.ensemble import RandomForestRegressor # инструмент для создания и обучения модели\n",
    "from sklearn import metrics # инструменты для оценки точности модели"
   ]
  },
  {
   "cell_type": "code",
   "execution_count": 35,
   "metadata": {
    "execution": {
     "iopub.execute_input": "2021-05-25T17:18:48.516790Z",
     "iopub.status.busy": "2021-05-25T17:18:48.516526Z",
     "iopub.status.idle": "2021-05-25T17:18:48.528549Z",
     "shell.execute_reply": "2021-05-25T17:18:48.527625Z",
     "shell.execute_reply.started": "2021-05-25T17:18:48.516746Z"
    }
   },
   "outputs": [],
   "source": [
    "# Создаём модель (НАСТРОЙКИ НЕ ТРОГАЕМ)\n",
    "model = RandomForestRegressor(n_estimators=100, verbose=1, n_jobs=-1, random_state=RANDOM_SEED)"
   ]
  },
  {
   "cell_type": "code",
   "execution_count": 36,
   "metadata": {
    "execution": {
     "iopub.execute_input": "2021-05-25T17:18:48.531320Z",
     "iopub.status.busy": "2021-05-25T17:18:48.530860Z",
     "iopub.status.idle": "2021-05-25T17:19:05.183866Z",
     "shell.execute_reply": "2021-05-25T17:19:05.182853Z",
     "shell.execute_reply.started": "2021-05-25T17:18:48.531246Z"
    }
   },
   "outputs": [
    {
     "name": "stderr",
     "output_type": "stream",
     "text": [
      "[Parallel(n_jobs=-1)]: Using backend ThreadingBackend with 4 concurrent workers.\n",
      "[Parallel(n_jobs=-1)]: Done  42 tasks      | elapsed:    7.2s\n",
      "[Parallel(n_jobs=-1)]: Done 100 out of 100 | elapsed:   16.5s finished\n",
      "[Parallel(n_jobs=4)]: Using backend ThreadingBackend with 4 concurrent workers.\n",
      "[Parallel(n_jobs=4)]: Done  42 tasks      | elapsed:    0.0s\n",
      "[Parallel(n_jobs=4)]: Done 100 out of 100 | elapsed:    0.1s finished\n"
     ]
    }
   ],
   "source": [
    "# Обучаем модель на тестовом наборе данных\n",
    "model.fit(X_train, y_train)\n",
    "\n",
    "# Используем обученную модель для предсказания рейтинга ресторанов в тестовой выборке.\n",
    "# Предсказанные значения записываем в переменную y_pred\n",
    "y_pred = model.predict(X_test)"
   ]
  },
  {
   "cell_type": "code",
   "execution_count": 37,
   "metadata": {
    "execution": {
     "iopub.execute_input": "2021-05-25T17:19:05.185565Z",
     "iopub.status.busy": "2021-05-25T17:19:05.185308Z",
     "iopub.status.idle": "2021-05-25T17:19:05.191531Z",
     "shell.execute_reply": "2021-05-25T17:19:05.190701Z",
     "shell.execute_reply.started": "2021-05-25T17:19:05.185529Z"
    }
   },
   "outputs": [
    {
     "name": "stdout",
     "output_type": "stream",
     "text": [
      "MAE: 0.20977437499999999\n"
     ]
    }
   ],
   "source": [
    "# Сравниваем предсказанные значения (y_pred) с реальными (y_test), и смотрим насколько они в среднем отличаются\n",
    "# Метрика называется Mean Absolute Error (MAE) и показывает среднее отклонение предсказанных значений от фактических.\n",
    "print('MAE:', metrics.mean_absolute_error(y_test, y_pred))"
   ]
  },
  {
   "cell_type": "code",
   "execution_count": 38,
   "metadata": {
    "execution": {
     "iopub.execute_input": "2021-05-25T17:19:05.193445Z",
     "iopub.status.busy": "2021-05-25T17:19:05.193098Z",
     "iopub.status.idle": "2021-05-25T17:19:05.652612Z",
     "shell.execute_reply": "2021-05-25T17:19:05.651543Z",
     "shell.execute_reply.started": "2021-05-25T17:19:05.193395Z"
    }
   },
   "outputs": [
    {
     "data": {
      "text/plain": [
       "<matplotlib.axes._subplots.AxesSubplot at 0x7f1ddfed7390>"
      ]
     },
     "execution_count": 38,
     "metadata": {},
     "output_type": "execute_result"
    },
    {
     "data": {
      "image/png": "[encoded data removed]",
      "text/plain": [
       "<Figure size 720x720 with 1 Axes>"
      ]
     },
     "metadata": {
      "needs_background": "light"
     },
     "output_type": "display_data"
    }
   ],
   "source": [
    "# в RandomForestRegressor есть возможность вывести самые важные признаки для модели\n",
    "plt.rcParams['figure.figsize'] = (10,10)\n",
    "feat_importances = pd.Series(model.feature_importances_, index=X.columns)\n",
    "feat_importances.nlargest(15).plot(kind='barh')"
   ]
  },
  {
   "cell_type": "markdown",
   "metadata": {},
   "source": [
    "# Submission\n",
    "Если все устраевает - готовим Submission на кагл"
   ]
  },
  {
   "cell_type": "code",
   "execution_count": 39,
   "metadata": {
    "execution": {
     "iopub.execute_input": "2021-05-25T17:19:52.339368Z",
     "iopub.status.busy": "2021-05-25T17:19:52.338954Z",
     "iopub.status.idle": "2021-05-25T17:19:52.371139Z",
     "shell.execute_reply": "2021-05-25T17:19:52.369922Z",
     "shell.execute_reply.started": "2021-05-25T17:19:52.339302Z"
    }
   },
   "outputs": [
    {
     "data": {
      "text/html": [
       "<div>\n",
       "<style scoped>\n",
       "    .dataframe tbody tr th:only-of-type {\n",
       "        vertical-align: middle;\n",
       "    }\n",
       "\n",
       "    .dataframe tbody tr th {\n",
       "        vertical-align: top;\n",
       "    }\n",
       "\n",
       "    .dataframe thead th {\n",
       "        text-align: right;\n",
       "    }\n",
       "</style>\n",
       "<table border=\"1\" class=\"dataframe\">\n",
       "  <thead>\n",
       "    <tr style=\"text-align: right;\">\n",
       "      <th></th>\n",
       "      <th>Ranking</th>\n",
       "      <th>Number of Reviews</th>\n",
       "      <th>Rating</th>\n",
       "      <th>Price Range</th>\n",
       "      <th>Cuisine Counter</th>\n",
       "      <th>Romanian</th>\n",
       "      <th>Norwegian</th>\n",
       "      <th>Soups</th>\n",
       "      <th>Swedish</th>\n",
       "      <th>Contemporary</th>\n",
       "      <th>...</th>\n",
       "      <th>City_Paris</th>\n",
       "      <th>City_Prague</th>\n",
       "      <th>City_Rome</th>\n",
       "      <th>City_Stockholm</th>\n",
       "      <th>City_Vienna</th>\n",
       "      <th>City_Warsaw</th>\n",
       "      <th>City_Zurich</th>\n",
       "      <th>City_nan</th>\n",
       "      <th>0</th>\n",
       "      <th>Restaurant_id</th>\n",
       "    </tr>\n",
       "  </thead>\n",
       "  <tbody>\n",
       "    <tr>\n",
       "      <th>6723</th>\n",
       "      <td>5266.0</td>\n",
       "      <td>217.0</td>\n",
       "      <td>0.0</td>\n",
       "      <td>2.0</td>\n",
       "      <td>6</td>\n",
       "      <td>0</td>\n",
       "      <td>0</td>\n",
       "      <td>0</td>\n",
       "      <td>0</td>\n",
       "      <td>0</td>\n",
       "      <td>...</td>\n",
       "      <td>0</td>\n",
       "      <td>0</td>\n",
       "      <td>1</td>\n",
       "      <td>0</td>\n",
       "      <td>0</td>\n",
       "      <td>0</td>\n",
       "      <td>0</td>\n",
       "      <td>0</td>\n",
       "      <td>0.000000</td>\n",
       "      <td>6723</td>\n",
       "    </tr>\n",
       "    <tr>\n",
       "      <th>6947</th>\n",
       "      <td>1711.0</td>\n",
       "      <td>73.0</td>\n",
       "      <td>0.0</td>\n",
       "      <td>2.0</td>\n",
       "      <td>3</td>\n",
       "      <td>0</td>\n",
       "      <td>0</td>\n",
       "      <td>0</td>\n",
       "      <td>0</td>\n",
       "      <td>0</td>\n",
       "      <td>...</td>\n",
       "      <td>0</td>\n",
       "      <td>0</td>\n",
       "      <td>0</td>\n",
       "      <td>0</td>\n",
       "      <td>0</td>\n",
       "      <td>1</td>\n",
       "      <td>0</td>\n",
       "      <td>0</td>\n",
       "      <td>39.000000</td>\n",
       "      <td>6947</td>\n",
       "    </tr>\n",
       "    <tr>\n",
       "      <th>1404</th>\n",
       "      <td>1934.0</td>\n",
       "      <td>43.0</td>\n",
       "      <td>0.0</td>\n",
       "      <td>1.0</td>\n",
       "      <td>1</td>\n",
       "      <td>0</td>\n",
       "      <td>0</td>\n",
       "      <td>0</td>\n",
       "      <td>0</td>\n",
       "      <td>0</td>\n",
       "      <td>...</td>\n",
       "      <td>0</td>\n",
       "      <td>0</td>\n",
       "      <td>0</td>\n",
       "      <td>0</td>\n",
       "      <td>0</td>\n",
       "      <td>0</td>\n",
       "      <td>0</td>\n",
       "      <td>0</td>\n",
       "      <td>306.000000</td>\n",
       "      <td>1404</td>\n",
       "    </tr>\n",
       "    <tr>\n",
       "      <th>342</th>\n",
       "      <td>15557.0</td>\n",
       "      <td>32.0</td>\n",
       "      <td>0.0</td>\n",
       "      <td>2.0</td>\n",
       "      <td>4</td>\n",
       "      <td>0</td>\n",
       "      <td>0</td>\n",
       "      <td>0</td>\n",
       "      <td>0</td>\n",
       "      <td>0</td>\n",
       "      <td>...</td>\n",
       "      <td>0</td>\n",
       "      <td>0</td>\n",
       "      <td>0</td>\n",
       "      <td>0</td>\n",
       "      <td>0</td>\n",
       "      <td>0</td>\n",
       "      <td>0</td>\n",
       "      <td>0</td>\n",
       "      <td>42.000000</td>\n",
       "      <td>342</td>\n",
       "    </tr>\n",
       "    <tr>\n",
       "      <th>5009</th>\n",
       "      <td>3853.0</td>\n",
       "      <td>120.0</td>\n",
       "      <td>0.0</td>\n",
       "      <td>2.0</td>\n",
       "      <td>3</td>\n",
       "      <td>0</td>\n",
       "      <td>0</td>\n",
       "      <td>0</td>\n",
       "      <td>0</td>\n",
       "      <td>0</td>\n",
       "      <td>...</td>\n",
       "      <td>0</td>\n",
       "      <td>0</td>\n",
       "      <td>1</td>\n",
       "      <td>0</td>\n",
       "      <td>0</td>\n",
       "      <td>0</td>\n",
       "      <td>0</td>\n",
       "      <td>0</td>\n",
       "      <td>70.761891</td>\n",
       "      <td>5009</td>\n",
       "    </tr>\n",
       "    <tr>\n",
       "      <th>2077</th>\n",
       "      <td>835.0</td>\n",
       "      <td>68.0</td>\n",
       "      <td>0.0</td>\n",
       "      <td>2.0</td>\n",
       "      <td>1</td>\n",
       "      <td>0</td>\n",
       "      <td>0</td>\n",
       "      <td>0</td>\n",
       "      <td>0</td>\n",
       "      <td>0</td>\n",
       "      <td>...</td>\n",
       "      <td>0</td>\n",
       "      <td>0</td>\n",
       "      <td>0</td>\n",
       "      <td>0</td>\n",
       "      <td>0</td>\n",
       "      <td>0</td>\n",
       "      <td>0</td>\n",
       "      <td>0</td>\n",
       "      <td>107.000000</td>\n",
       "      <td>2077</td>\n",
       "    </tr>\n",
       "    <tr>\n",
       "      <th>2431</th>\n",
       "      <td>6066.0</td>\n",
       "      <td>11.0</td>\n",
       "      <td>0.0</td>\n",
       "      <td>1.0</td>\n",
       "      <td>1</td>\n",
       "      <td>0</td>\n",
       "      <td>0</td>\n",
       "      <td>0</td>\n",
       "      <td>0</td>\n",
       "      <td>0</td>\n",
       "      <td>...</td>\n",
       "      <td>0</td>\n",
       "      <td>0</td>\n",
       "      <td>0</td>\n",
       "      <td>0</td>\n",
       "      <td>0</td>\n",
       "      <td>0</td>\n",
       "      <td>0</td>\n",
       "      <td>0</td>\n",
       "      <td>64.000000</td>\n",
       "      <td>2431</td>\n",
       "    </tr>\n",
       "    <tr>\n",
       "      <th>4952</th>\n",
       "      <td>40.0</td>\n",
       "      <td>4977.0</td>\n",
       "      <td>0.0</td>\n",
       "      <td>2.0</td>\n",
       "      <td>5</td>\n",
       "      <td>0</td>\n",
       "      <td>0</td>\n",
       "      <td>0</td>\n",
       "      <td>0</td>\n",
       "      <td>0</td>\n",
       "      <td>...</td>\n",
       "      <td>0</td>\n",
       "      <td>0</td>\n",
       "      <td>0</td>\n",
       "      <td>0</td>\n",
       "      <td>0</td>\n",
       "      <td>0</td>\n",
       "      <td>0</td>\n",
       "      <td>0</td>\n",
       "      <td>3.000000</td>\n",
       "      <td>4952</td>\n",
       "    </tr>\n",
       "    <tr>\n",
       "      <th>535</th>\n",
       "      <td>2670.0</td>\n",
       "      <td>18.0</td>\n",
       "      <td>0.0</td>\n",
       "      <td>2.0</td>\n",
       "      <td>2</td>\n",
       "      <td>0</td>\n",
       "      <td>0</td>\n",
       "      <td>0</td>\n",
       "      <td>0</td>\n",
       "      <td>0</td>\n",
       "      <td>...</td>\n",
       "      <td>0</td>\n",
       "      <td>0</td>\n",
       "      <td>1</td>\n",
       "      <td>0</td>\n",
       "      <td>0</td>\n",
       "      <td>0</td>\n",
       "      <td>0</td>\n",
       "      <td>0</td>\n",
       "      <td>70.761891</td>\n",
       "      <td>535</td>\n",
       "    </tr>\n",
       "    <tr>\n",
       "      <th>3953</th>\n",
       "      <td>4275.0</td>\n",
       "      <td>136.0</td>\n",
       "      <td>0.0</td>\n",
       "      <td>2.0</td>\n",
       "      <td>2</td>\n",
       "      <td>0</td>\n",
       "      <td>0</td>\n",
       "      <td>0</td>\n",
       "      <td>0</td>\n",
       "      <td>0</td>\n",
       "      <td>...</td>\n",
       "      <td>1</td>\n",
       "      <td>0</td>\n",
       "      <td>0</td>\n",
       "      <td>0</td>\n",
       "      <td>0</td>\n",
       "      <td>0</td>\n",
       "      <td>0</td>\n",
       "      <td>0</td>\n",
       "      <td>27.000000</td>\n",
       "      <td>3953</td>\n",
       "    </tr>\n",
       "  </tbody>\n",
       "</table>\n",
       "<p>10 rows × 164 columns</p>\n",
       "</div>"
      ],
      "text/plain": [
       "      Ranking  Number of Reviews  Rating  Price Range  Cuisine Counter  \\\n",
       "6723   5266.0              217.0     0.0          2.0                6   \n",
       "6947   1711.0               73.0     0.0          2.0                3   \n",
       "1404   1934.0               43.0     0.0          1.0                1   \n",
       "342   15557.0               32.0     0.0          2.0                4   \n",
       "5009   3853.0              120.0     0.0          2.0                3   \n",
       "2077    835.0               68.0     0.0          2.0                1   \n",
       "2431   6066.0               11.0     0.0          1.0                1   \n",
       "4952     40.0             4977.0     0.0          2.0                5   \n",
       "535    2670.0               18.0     0.0          2.0                2   \n",
       "3953   4275.0              136.0     0.0          2.0                2   \n",
       "\n",
       "      Romanian  Norwegian  Soups  Swedish  Contemporary  ...  City_Paris  \\\n",
       "6723         0          0      0        0             0  ...           0   \n",
       "6947         0          0      0        0             0  ...           0   \n",
       "1404         0          0      0        0             0  ...           0   \n",
       "342          0          0      0        0             0  ...           0   \n",
       "5009         0          0      0        0             0  ...           0   \n",
       "2077         0          0      0        0             0  ...           0   \n",
       "2431         0          0      0        0             0  ...           0   \n",
       "4952         0          0      0        0             0  ...           0   \n",
       "535          0          0      0        0             0  ...           0   \n",
       "3953         0          0      0        0             0  ...           1   \n",
       "\n",
       "      City_Prague  City_Rome  City_Stockholm  City_Vienna  City_Warsaw  \\\n",
       "6723            0          1               0            0            0   \n",
       "6947            0          0               0            0            1   \n",
       "1404            0          0               0            0            0   \n",
       "342             0          0               0            0            0   \n",
       "5009            0          1               0            0            0   \n",
       "2077            0          0               0            0            0   \n",
       "2431            0          0               0            0            0   \n",
       "4952            0          0               0            0            0   \n",
       "535             0          1               0            0            0   \n",
       "3953            0          0               0            0            0   \n",
       "\n",
       "      City_Zurich  City_nan           0  Restaurant_id  \n",
       "6723            0         0    0.000000           6723  \n",
       "6947            0         0   39.000000           6947  \n",
       "1404            0         0  306.000000           1404  \n",
       "342             0         0   42.000000            342  \n",
       "5009            0         0   70.761891           5009  \n",
       "2077            0         0  107.000000           2077  \n",
       "2431            0         0   64.000000           2431  \n",
       "4952            0         0    3.000000           4952  \n",
       "535             0         0   70.761891            535  \n",
       "3953            0         0   27.000000           3953  \n",
       "\n",
       "[10 rows x 164 columns]"
      ]
     },
     "execution_count": 39,
     "metadata": {},
     "output_type": "execute_result"
    }
   ],
   "source": [
    "test_data.sample(10)"
   ]
  },
  {
   "cell_type": "code",
   "execution_count": 40,
   "metadata": {
    "execution": {
     "iopub.execute_input": "2021-05-25T17:19:57.555499Z",
     "iopub.status.busy": "2021-05-25T17:19:57.555117Z",
     "iopub.status.idle": "2021-05-25T17:19:57.565948Z",
     "shell.execute_reply": "2021-05-25T17:19:57.564684Z",
     "shell.execute_reply.started": "2021-05-25T17:19:57.555438Z"
    }
   },
   "outputs": [],
   "source": [
    "test_data = test_data.drop(['Rating'], axis=1)"
   ]
  },
  {
   "cell_type": "code",
   "execution_count": 41,
   "metadata": {
    "execution": {
     "iopub.execute_input": "2021-05-25T17:19:59.245606Z",
     "iopub.status.busy": "2021-05-25T17:19:59.245271Z",
     "iopub.status.idle": "2021-05-25T17:19:59.261048Z",
     "shell.execute_reply": "2021-05-25T17:19:59.259925Z",
     "shell.execute_reply.started": "2021-05-25T17:19:59.245559Z"
    }
   },
   "outputs": [
    {
     "data": {
      "text/html": [
       "<div>\n",
       "<style scoped>\n",
       "    .dataframe tbody tr th:only-of-type {\n",
       "        vertical-align: middle;\n",
       "    }\n",
       "\n",
       "    .dataframe tbody tr th {\n",
       "        vertical-align: top;\n",
       "    }\n",
       "\n",
       "    .dataframe thead th {\n",
       "        text-align: right;\n",
       "    }\n",
       "</style>\n",
       "<table border=\"1\" class=\"dataframe\">\n",
       "  <thead>\n",
       "    <tr style=\"text-align: right;\">\n",
       "      <th></th>\n",
       "      <th>Restaurant_id</th>\n",
       "      <th>Rating</th>\n",
       "    </tr>\n",
       "  </thead>\n",
       "  <tbody>\n",
       "    <tr>\n",
       "      <th>0</th>\n",
       "      <td>id_0</td>\n",
       "      <td>2.0</td>\n",
       "    </tr>\n",
       "    <tr>\n",
       "      <th>1</th>\n",
       "      <td>id_1</td>\n",
       "      <td>2.5</td>\n",
       "    </tr>\n",
       "    <tr>\n",
       "      <th>2</th>\n",
       "      <td>id_2</td>\n",
       "      <td>4.0</td>\n",
       "    </tr>\n",
       "    <tr>\n",
       "      <th>3</th>\n",
       "      <td>id_3</td>\n",
       "      <td>1.0</td>\n",
       "    </tr>\n",
       "    <tr>\n",
       "      <th>4</th>\n",
       "      <td>id_4</td>\n",
       "      <td>4.0</td>\n",
       "    </tr>\n",
       "    <tr>\n",
       "      <th>...</th>\n",
       "      <td>...</td>\n",
       "      <td>...</td>\n",
       "    </tr>\n",
       "    <tr>\n",
       "      <th>9995</th>\n",
       "      <td>id_9995</td>\n",
       "      <td>3.0</td>\n",
       "    </tr>\n",
       "    <tr>\n",
       "      <th>9996</th>\n",
       "      <td>id_9996</td>\n",
       "      <td>1.5</td>\n",
       "    </tr>\n",
       "    <tr>\n",
       "      <th>9997</th>\n",
       "      <td>id_9997</td>\n",
       "      <td>4.5</td>\n",
       "    </tr>\n",
       "    <tr>\n",
       "      <th>9998</th>\n",
       "      <td>id_9998</td>\n",
       "      <td>1.0</td>\n",
       "    </tr>\n",
       "    <tr>\n",
       "      <th>9999</th>\n",
       "      <td>id_9999</td>\n",
       "      <td>2.5</td>\n",
       "    </tr>\n",
       "  </tbody>\n",
       "</table>\n",
       "<p>10000 rows × 2 columns</p>\n",
       "</div>"
      ],
      "text/plain": [
       "     Restaurant_id  Rating\n",
       "0             id_0     2.0\n",
       "1             id_1     2.5\n",
       "2             id_2     4.0\n",
       "3             id_3     1.0\n",
       "4             id_4     4.0\n",
       "...            ...     ...\n",
       "9995       id_9995     3.0\n",
       "9996       id_9996     1.5\n",
       "9997       id_9997     4.5\n",
       "9998       id_9998     1.0\n",
       "9999       id_9999     2.5\n",
       "\n",
       "[10000 rows x 2 columns]"
      ]
     },
     "execution_count": 41,
     "metadata": {},
     "output_type": "execute_result"
    }
   ],
   "source": [
    "sample_submission"
   ]
  },
  {
   "cell_type": "code",
   "execution_count": 42,
   "metadata": {
    "execution": {
     "iopub.execute_input": "2021-05-25T17:20:03.700601Z",
     "iopub.status.busy": "2021-05-25T17:20:03.699968Z",
     "iopub.status.idle": "2021-05-25T17:20:03.916696Z",
     "shell.execute_reply": "2021-05-25T17:20:03.915844Z",
     "shell.execute_reply.started": "2021-05-25T17:20:03.700550Z"
    }
   },
   "outputs": [
    {
     "name": "stderr",
     "output_type": "stream",
     "text": [
      "[Parallel(n_jobs=4)]: Using backend ThreadingBackend with 4 concurrent workers.\n",
      "[Parallel(n_jobs=4)]: Done  42 tasks      | elapsed:    0.0s\n",
      "[Parallel(n_jobs=4)]: Done 100 out of 100 | elapsed:    0.1s finished\n"
     ]
    }
   ],
   "source": [
    "predict_submission = model.predict(test_data)"
   ]
  },
  {
   "cell_type": "code",
   "execution_count": 43,
   "metadata": {
    "execution": {
     "iopub.execute_input": "2021-05-25T17:20:07.249466Z",
     "iopub.status.busy": "2021-05-25T17:20:07.249070Z",
     "iopub.status.idle": "2021-05-25T17:20:07.255852Z",
     "shell.execute_reply": "2021-05-25T17:20:07.254792Z",
     "shell.execute_reply.started": "2021-05-25T17:20:07.249395Z"
    }
   },
   "outputs": [
    {
     "data": {
      "text/plain": [
       "array([4.29 , 4.49 , 4.605, ..., 2.705, 3.3  , 4.125])"
      ]
     },
     "execution_count": 43,
     "metadata": {},
     "output_type": "execute_result"
    }
   ],
   "source": [
    "predict_submission"
   ]
  },
  {
   "cell_type": "code",
   "execution_count": 44,
   "metadata": {
    "execution": {
     "iopub.execute_input": "2021-05-25T17:20:11.131514Z",
     "iopub.status.busy": "2021-05-25T17:20:11.131124Z",
     "iopub.status.idle": "2021-05-25T17:20:11.178462Z",
     "shell.execute_reply": "2021-05-25T17:20:11.177690Z",
     "shell.execute_reply.started": "2021-05-25T17:20:11.131451Z"
    }
   },
   "outputs": [
    {
     "data": {
      "text/html": [
       "<div>\n",
       "<style scoped>\n",
       "    .dataframe tbody tr th:only-of-type {\n",
       "        vertical-align: middle;\n",
       "    }\n",
       "\n",
       "    .dataframe tbody tr th {\n",
       "        vertical-align: top;\n",
       "    }\n",
       "\n",
       "    .dataframe thead th {\n",
       "        text-align: right;\n",
       "    }\n",
       "</style>\n",
       "<table border=\"1\" class=\"dataframe\">\n",
       "  <thead>\n",
       "    <tr style=\"text-align: right;\">\n",
       "      <th></th>\n",
       "      <th>Restaurant_id</th>\n",
       "      <th>Rating</th>\n",
       "    </tr>\n",
       "  </thead>\n",
       "  <tbody>\n",
       "    <tr>\n",
       "      <th>0</th>\n",
       "      <td>id_0</td>\n",
       "      <td>4.290</td>\n",
       "    </tr>\n",
       "    <tr>\n",
       "      <th>1</th>\n",
       "      <td>id_1</td>\n",
       "      <td>4.490</td>\n",
       "    </tr>\n",
       "    <tr>\n",
       "      <th>2</th>\n",
       "      <td>id_2</td>\n",
       "      <td>4.605</td>\n",
       "    </tr>\n",
       "    <tr>\n",
       "      <th>3</th>\n",
       "      <td>id_3</td>\n",
       "      <td>4.385</td>\n",
       "    </tr>\n",
       "    <tr>\n",
       "      <th>4</th>\n",
       "      <td>id_4</td>\n",
       "      <td>4.500</td>\n",
       "    </tr>\n",
       "    <tr>\n",
       "      <th>5</th>\n",
       "      <td>id_5</td>\n",
       "      <td>4.580</td>\n",
       "    </tr>\n",
       "    <tr>\n",
       "      <th>6</th>\n",
       "      <td>id_6</td>\n",
       "      <td>4.020</td>\n",
       "    </tr>\n",
       "    <tr>\n",
       "      <th>7</th>\n",
       "      <td>id_7</td>\n",
       "      <td>3.760</td>\n",
       "    </tr>\n",
       "    <tr>\n",
       "      <th>8</th>\n",
       "      <td>id_8</td>\n",
       "      <td>4.565</td>\n",
       "    </tr>\n",
       "    <tr>\n",
       "      <th>9</th>\n",
       "      <td>id_9</td>\n",
       "      <td>4.655</td>\n",
       "    </tr>\n",
       "  </tbody>\n",
       "</table>\n",
       "</div>"
      ],
      "text/plain": [
       "  Restaurant_id  Rating\n",
       "0          id_0   4.290\n",
       "1          id_1   4.490\n",
       "2          id_2   4.605\n",
       "3          id_3   4.385\n",
       "4          id_4   4.500\n",
       "5          id_5   4.580\n",
       "6          id_6   4.020\n",
       "7          id_7   3.760\n",
       "8          id_8   4.565\n",
       "9          id_9   4.655"
      ]
     },
     "execution_count": 44,
     "metadata": {},
     "output_type": "execute_result"
    }
   ],
   "source": [
    "sample_submission['Rating'] = predict_submission\n",
    "sample_submission.to_csv('submission.csv', index=False)\n",
    "sample_submission.head(10)"
   ]
  },
  {
   "cell_type": "markdown",
   "metadata": {},
   "source": [
    "# What's next?\n",
    "Или что делать, чтоб улучшить результат:\n",
    "* Обработать оставшиеся признаки в понятный для машины формат\n",
    "* Посмотреть, что еще можно извлечь из признаков\n",
    "* Сгенерировать новые признаки\n",
    "* Подгрузить дополнительные данные, например: по населению или благосостоянию городов\n",
    "* Подобрать состав признаков\n",
    "\n",
    "В общем, процесс творческий и весьма увлекательный! Удачи в соревновании!\n"
   ]
  },
  {
   "cell_type": "code",
   "execution_count": null,
   "metadata": {},
   "outputs": [],
   "source": []
  }
 ],
 "metadata": {
  "kernelspec": {
   "display_name": "Python 3",
   "language": "python",
   "name": "python3"
  },
  "language_info": {
   "codemirror_mode": {
    "name": "ipython",
    "version": 3
   },
   "file_extension": ".py",
   "mimetype": "text/x-python",
   "name": "python",
   "nbconvert_exporter": "python",
   "pygments_lexer": "ipython3",
   "version": "3.6.6"
  }
 },
 "nbformat": 4,
 "nbformat_minor": 4
}
